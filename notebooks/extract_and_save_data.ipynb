{
 "cells": [
  {
   "cell_type": "markdown",
   "metadata": {
    "id": "Cn0jxbRb_pMq"
   },
   "source": [
    "## Realizando a conexão com o MongoDB"
   ]
  },
  {
   "cell_type": "markdown",
   "metadata": {
    "id": "8VjL0u5i_pMs"
   },
   "source": [
    "Realizando conexão com o banco de dados utilizando a biblioteca pymongo."
   ]
  },
  {
   "cell_type": "code",
   "execution_count": 3,
   "metadata": {
    "id": "BHIyQFnQ_pMt"
   },
   "outputs": [
    {
     "name": "stdout",
     "output_type": "stream",
     "text": [
      "Pinged your deployment. You successfully connected to MongoDB!\n"
     ]
    }
   ],
   "source": [
    "import os\n",
    "from dotenv import load_dotenv\n",
    "from pymongo.mongo_client import MongoClient\n",
    "from pymongo.server_api import ServerApi\n",
    "\n",
    "# Load File .env\n",
    "load_dotenv('../.env')\n",
    "\n",
    "uri = os.getenv(\"MONGODB_URI\")\n",
    "\n",
    "# Create a new client and connect to the server\n",
    "client = MongoClient(uri, server_api=ServerApi('1'))\n",
    "\n",
    "# Send a ping to confirm a successful connection\n",
    "try:\n",
    "    client.admin.command('ping')\n",
    "    print(\"Pinged your deployment. You successfully connected to MongoDB!\")\n",
    "except Exception as e:\n",
    "    print(e)"
   ]
  },
  {
   "cell_type": "markdown",
   "metadata": {
    "id": "c3c01uei_pMu"
   },
   "source": [
    "## Criando o banco de dados e uma coleção"
   ]
  },
  {
   "cell_type": "markdown",
   "metadata": {
    "id": "CIZAtkKT_pMu"
   },
   "source": [
    "Após conexão com banco, realizando criação da base de dados e uma coleção."
   ]
  },
  {
   "cell_type": "code",
   "execution_count": 4,
   "metadata": {
    "id": "alMlOFKw_pMv"
   },
   "outputs": [],
   "source": [
    "db = client['db_products']\n",
    "collection = db['products']"
   ]
  },
  {
   "cell_type": "code",
   "execution_count": 5,
   "metadata": {
    "id": "kJRdeoLG_pMv"
   },
   "outputs": [
    {
     "data": {
      "text/plain": [
       "<pymongo.results.InsertOneResult at 0x7fea1744dc30>"
      ]
     },
     "execution_count": 5,
     "metadata": {},
     "output_type": "execute_result"
    }
   ],
   "source": [
    "product = {'product': 'Computer', 'quantity': 77}\n",
    "collection.insert_one(product)"
   ]
  },
  {
   "cell_type": "code",
   "execution_count": 6,
   "metadata": {},
   "outputs": [
    {
     "data": {
      "text/plain": [
       "{'_id': ObjectId('673777cd05da3d83c7f71a48'),\n",
       " 'product': 'Computer',\n",
       " 'quantity': 77}"
      ]
     },
     "execution_count": 6,
     "metadata": {},
     "output_type": "execute_result"
    }
   ],
   "source": [
    "collection.find_one(product)"
   ]
  },
  {
   "cell_type": "code",
   "execution_count": 7,
   "metadata": {
    "id": "Hn0GtQc8_pMv"
   },
   "outputs": [
    {
     "data": {
      "text/plain": [
       "['db_products', 'sample_mflix', 'admin', 'local']"
      ]
     },
     "execution_count": 7,
     "metadata": {},
     "output_type": "execute_result"
    }
   ],
   "source": [
    "client.list_database_names()"
   ]
  },
  {
   "cell_type": "markdown",
   "metadata": {
    "id": "qaMhkX6I_pMw"
   },
   "source": [
    "## Extraindo os dados da API"
   ]
  },
  {
   "cell_type": "code",
   "execution_count": 8,
   "metadata": {
    "id": "L_dLl6BE_pMw"
   },
   "outputs": [],
   "source": [
    "import requests\n",
    "\n",
    "response = requests.get('https://labdados.com/produtos')"
   ]
  },
  {
   "cell_type": "code",
   "execution_count": 9,
   "metadata": {
    "id": "q2ftrC-G_pMw"
   },
   "outputs": [
    {
     "data": {
      "text/plain": [
       "9435"
      ]
     },
     "execution_count": 9,
     "metadata": {},
     "output_type": "execute_result"
    }
   ],
   "source": [
    "len(response.json())"
   ]
  },
  {
   "cell_type": "markdown",
   "metadata": {
    "id": "kOdjNae8_pMx"
   },
   "source": [
    "## Adicionando os dados extraídos na coleção"
   ]
  },
  {
   "cell_type": "markdown",
   "metadata": {
    "id": "hvNJKD3B_pMx"
   },
   "source": [
    "Após extração dos dados, utilizar o método `insert_many()` para adicionar todos os dados extraídos de uma vez."
   ]
  },
  {
   "cell_type": "code",
   "execution_count": 10,
   "metadata": {
    "id": "HiAgatGb_pMx"
   },
   "outputs": [],
   "source": [
    "docs = collection.insert_many(response.json())"
   ]
  },
  {
   "cell_type": "code",
   "execution_count": 13,
   "metadata": {
    "id": "gGKZqZpL_pMx"
   },
   "outputs": [
    {
     "data": {
      "text/plain": [
       "9435"
      ]
     },
     "execution_count": 13,
     "metadata": {},
     "output_type": "execute_result"
    }
   ],
   "source": [
    "len(docs.inserted_ids)"
   ]
  },
  {
   "cell_type": "markdown",
   "metadata": {},
   "source": [
    "## Encerrando conexão com o MongoDB"
   ]
  },
  {
   "cell_type": "code",
   "execution_count": 12,
   "metadata": {},
   "outputs": [],
   "source": [
    "client.close()"
   ]
  }
 ],
 "metadata": {
  "colab": {
   "provenance": []
  },
  "kernelspec": {
   "display_name": "venv",
   "language": "python",
   "name": "python3"
  },
  "language_info": {
   "codemirror_mode": {
    "name": "ipython",
    "version": 3
   },
   "file_extension": ".py",
   "mimetype": "text/x-python",
   "name": "python",
   "nbconvert_exporter": "python",
   "pygments_lexer": "ipython3",
   "version": "3.10.12"
  },
  "orig_nbformat": 4
 },
 "nbformat": 4,
 "nbformat_minor": 0
}
